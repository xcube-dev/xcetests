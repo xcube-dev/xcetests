{
 "cells": [
  {
   "cell_type": "code",
   "execution_count": 1,
   "id": "82f71842-da8a-4697-809e-cc5b24865240",
   "metadata": {
    "editable": true,
    "slideshow": {
     "slide_type": ""
    },
    "tags": []
   },
   "outputs": [],
   "source": [
    "import datetime\n",
    "import json\n",
    "import pathlib\n",
    "import re\n",
    "\n",
    "import numpy as np\n",
    "import rioxarray\n",
    "import xarray as xr"
   ]
  },
  {
   "cell_type": "code",
   "execution_count": 2,
   "id": "fc9f09c9-90c1-4712-9721-66cef3d89486",
   "metadata": {
    "editable": true,
    "slideshow": {
     "slide_type": ""
    },
    "tags": [
     "parameters"
    ]
   },
   "outputs": [],
   "source": [
    "fn = \"resize\"\n",
    "size = \"50%\"\n",
    "url = \"https://eoepca.org/media_portal/images/logo6_med.original.png\"\n",
    "\n",
    "xcengine_config = dict(\n",
    "    workflow_id=\"xceconvert-11\",\n",
    "    container_image_tag=\"quay.io/bcdev/xcetest-convert:11\",\n",
    "    environment_file=\"environment.yml\",\n",
    ")"
   ]
  },
  {
   "cell_type": "code",
   "execution_count": 3,
   "id": "7e8879c6-1b5e-46ab-96eb-20ebbf4815c0",
   "metadata": {
    "editable": true,
    "slideshow": {
     "slide_type": ""
    },
    "tags": []
   },
   "outputs": [
    {
     "name": "stderr",
     "output_type": "stream",
     "text": [
      "/home/pont/mambaforge/envs/xcube2505a/lib/python3.13/site-packages/rioxarray/_io.py:1143: NotGeoreferencedWarning: Dataset has no geotransform, gcps, or rpcs. The identity matrix will be returned.\n",
      "  warnings.warn(str(rio_warning.message), type(rio_warning.message))  # type: ignore\n"
     ]
    }
   ],
   "source": [
    "da = rioxarray.open_rasterio(url)"
   ]
  },
  {
   "cell_type": "code",
   "execution_count": 4,
   "id": "073b818f-a15a-4bc1-a485-2faf17f05b0d",
   "metadata": {
    "editable": true,
    "slideshow": {
     "slide_type": ""
    },
    "tags": []
   },
   "outputs": [],
   "source": [
    "da_small = da.coarsen(x=2, y=2).mean().astype(np.uint8)"
   ]
  },
  {
   "cell_type": "code",
   "execution_count": 5,
   "id": "9fc319fe-e640-4791-8f91-692b5892b5e3",
   "metadata": {},
   "outputs": [],
   "source": [
    "ds = xr.Dataset(dict(v=da_small))"
   ]
  },
  {
   "cell_type": "code",
   "execution_count": 6,
   "id": "8825d414-2971-4523-8ab2-b5b52e587ffb",
   "metadata": {
    "editable": true,
    "slideshow": {
     "slide_type": ""
    },
    "tags": []
   },
   "outputs": [],
   "source": [
    "def write_stac_item(output_basename, suffix):\n",
    "    subdir = pathlib.Path(suffix)\n",
    "    subdir.mkdir()\n",
    "    now = datetime.datetime.now(datetime.UTC)\n",
    "    item_stac = {\n",
    "        \"type\": \"Feature\",\n",
    "        \"stac_version\": \"1.1.0\",\n",
    "        \"stac_extensions\": [],\n",
    "        \"id\": f\"{output_basename}-{now.timestamp():.9f}\",\n",
    "        \"geometry\": {\n",
    "            \"type\": \"Polygon\",\n",
    "            \"coordinates\": [[[0, -90], [0, 90], [360, 90], [360, -90], [0, -90]]],\n",
    "        },\n",
    "        \"bbox\": [0, -90, 360, 90],\n",
    "        \"properties\": {\n",
    "            \"start_datetime\": \"2000-01-01T00:00:00Z\",\n",
    "            \"end_datetime\": \"2001-01-01T00:00:00Z\",\n",
    "            \"datetime\": None,\n",
    "        },\n",
    "        \"links\": [\n",
    "            {\"rel\": \"root\", \"href\": \"../catalog.json\", \"type\": \"application/json\"},\n",
    "            {\"rel\": \"parent\", \"href\": \"../catalog.json\", \"type\": \"application/json\"},\n",
    "        ],\n",
    "        \"assets\": {\n",
    "            output_basename: {\n",
    "                \"href\": f\"./{output_basename}.{suffix}\",\n",
    "                \"type\": \"image/png\",\n",
    "                \"title\": output_basename,\n",
    "                \"roles\": [\"data\", \"visual\"],\n",
    "            }\n",
    "        },\n",
    "    }\n",
    "    \n",
    "    item_stac[\"properties\"] |= {\n",
    "        \"xcengine_config:\" + k: v for k, v in xcengine_config.items()\n",
    "    }\n",
    "    \n",
    "    with open(subdir / (output_basename + \".json\"), \"w\") as fh:\n",
    "        json.dump(item_stac, fh, indent=2)"
   ]
  },
  {
   "cell_type": "code",
   "execution_count": 7,
   "id": "b1d4b6a3-68ca-4f8b-ba67-836ca4bfcbb1",
   "metadata": {
    "editable": true,
    "slideshow": {
     "slide_type": ""
    },
    "tags": []
   },
   "outputs": [],
   "source": [
    "output_basename = (\n",
    "    re.sub(\"[.]png$\", \"\", pathlib.Path(url).parts[-1]) + \"-resize\"\n",
    ")\n",
    "output_types = [\"png\"]\n",
    "for output_type in output_types:\n",
    "    write_stac_item(output_basename, output_type)\n",
    "    \n",
    "output_jsonname = output_basename + \".json\""
   ]
  },
  {
   "cell_type": "code",
   "execution_count": 8,
   "id": "017d34d6-9145-4fc8-841a-43fd349c368b",
   "metadata": {
    "editable": true,
    "slideshow": {
     "slide_type": ""
    },
    "tags": []
   },
   "outputs": [
    {
     "data": {
      "text/plain": [
       "<xarray.backends.zarr.ZarrStore at 0x7f63d31bb250>"
      ]
     },
     "execution_count": 8,
     "metadata": {},
     "output_type": "execute_result"
    }
   ],
   "source": [
    "da_small.rio.to_raster(pathlib.Path(\"png\") / (output_basename + \".png\"))\n",
    "ds.to_zarr(pathlib.Path(\"zarr\") / (output_basename + \".zarr\"))"
   ]
  },
  {
   "cell_type": "code",
   "execution_count": 9,
   "id": "161b8975-0ccf-40bf-833f-fe05c36f5bb0",
   "metadata": {},
   "outputs": [],
   "source": [
    "stac_item_links = [\n",
    "    {\n",
    "        \"rel\": \"item\",\n",
    "        \"href\": f\"./{output_type}/{output_jsonname}\",\n",
    "        \"type\": \"application/geo+json\",\n",
    "    } for output_type in output_types\n",
    "]"
   ]
  },
  {
   "cell_type": "code",
   "execution_count": 10,
   "id": "19517eb9-4d64-4b95-94ec-b4e9a3292d27",
   "metadata": {
    "editable": true,
    "slideshow": {
     "slide_type": ""
    },
    "tags": []
   },
   "outputs": [],
   "source": [
    "catalog_stac = {\n",
    "    \"type\": \"Catalog\",\n",
    "    \"id\": \"catalog\",\n",
    "    \"stac_version\": \"1.1.0\",\n",
    "    \"description\": \"Root catalog\",\n",
    "    \"links\": [\n",
    "        {\"rel\": \"root\", \"href\": \"./catalog.json\", \"type\": \"application/json\"},\n",
    "    ] + stac_item_links,\n",
    "}\n",
    "\n",
    "with open(\"catalog.json\", \"w\") as fh:\n",
    "    json.dump(catalog_stac, fh, indent=2)"
   ]
  }
 ],
 "metadata": {
  "kernelspec": {
   "display_name": "Python 3 (ipykernel)",
   "language": "python",
   "name": "python3"
  },
  "language_info": {
   "codemirror_mode": {
    "name": "ipython",
    "version": 3
   },
   "file_extension": ".py",
   "mimetype": "text/x-python",
   "name": "python",
   "nbconvert_exporter": "python",
   "pygments_lexer": "ipython3",
   "version": "3.13.3"
  }
 },
 "nbformat": 4,
 "nbformat_minor": 5
}
