{
 "cells": [
  {
   "cell_type": "code",
   "execution_count": 6,
   "id": "82f71842-da8a-4697-809e-cc5b24865240",
   "metadata": {
    "editable": true,
    "slideshow": {
     "slide_type": ""
    },
    "tags": []
   },
   "outputs": [],
   "source": [
    "import datetime\n",
    "import json\n",
    "import pathlib\n",
    "import re\n",
    "\n",
    "import numpy as np\n",
    "import rioxarray"
   ]
  },
  {
   "cell_type": "code",
   "execution_count": 7,
   "id": "fc9f09c9-90c1-4712-9721-66cef3d89486",
   "metadata": {
    "editable": true,
    "slideshow": {
     "slide_type": ""
    },
    "tags": [
     "parameters"
    ]
   },
   "outputs": [],
   "source": [
    "fn = \"resize\"\n",
    "size = \"50%\"\n",
    "url = \"https://eoepca.org/media_portal/images/logo6_med.original.png\"\n",
    "\n",
    "xcengine_config = dict(\n",
    "  workflow_id = \"xceconvert-6\",\n",
    "  container_image_tag = \"quay.io/bcdev/xcetest-convert:6\",\n",
    "  environment_file = \"environment.yml\"\n",
    ")"
   ]
  },
  {
   "cell_type": "code",
   "execution_count": 8,
   "id": "7e8879c6-1b5e-46ab-96eb-20ebbf4815c0",
   "metadata": {
    "editable": true,
    "slideshow": {
     "slide_type": ""
    },
    "tags": []
   },
   "outputs": [
    {
     "name": "stderr",
     "output_type": "stream",
     "text": [
      "/home/pont/mambaforge/envs/xcube2505a/lib/python3.13/site-packages/rioxarray/_io.py:1143: NotGeoreferencedWarning: Dataset has no geotransform, gcps, or rpcs. The identity matrix will be returned.\n",
      "  warnings.warn(str(rio_warning.message), type(rio_warning.message))  # type: ignore\n"
     ]
    }
   ],
   "source": [
    "ds = rioxarray.open_rasterio(url)"
   ]
  },
  {
   "cell_type": "code",
   "execution_count": 9,
   "id": "073b818f-a15a-4bc1-a485-2faf17f05b0d",
   "metadata": {
    "editable": true,
    "slideshow": {
     "slide_type": ""
    },
    "tags": []
   },
   "outputs": [],
   "source": [
    "ds_small = ds.coarsen(x=2, y=2).mean().astype(np.uint8)"
   ]
  },
  {
   "cell_type": "code",
   "execution_count": 10,
   "id": "b1d4b6a3-68ca-4f8b-ba67-836ca4bfcbb1",
   "metadata": {
    "editable": true,
    "slideshow": {
     "slide_type": ""
    },
    "tags": []
   },
   "outputs": [],
   "source": [
    "output_basename = re.sub(\"[.]png$\", \"\", pathlib.Path(url).parts[-1]) + \"-resize\"\n",
    "output_pngname = output_basename + \".png\"\n",
    "output_pngpath = pathlib.Path(output_pngname)\n",
    "output_jsonname = output_basename + \".json\""
   ]
  },
  {
   "cell_type": "code",
   "execution_count": 11,
   "id": "017d34d6-9145-4fc8-841a-43fd349c368b",
   "metadata": {
    "editable": true,
    "slideshow": {
     "slide_type": ""
    },
    "tags": []
   },
   "outputs": [],
   "source": [
    "ds_small.rio.to_raster(output_pngname)"
   ]
  },
  {
   "cell_type": "code",
   "execution_count": 12,
   "id": "532965a9-146e-4bfd-b1cf-308db9ea7d6b",
   "metadata": {
    "editable": true,
    "slideshow": {
     "slide_type": ""
    },
    "tags": []
   },
   "outputs": [],
   "source": [
    "now = datetime.datetime.now(datetime.UTC)\n",
    "now_iso8601 = re.sub(r\"\\+00:00$\", \"Z\", now.isoformat(timespec=\"milliseconds\"))"
   ]
  },
  {
   "cell_type": "code",
   "execution_count": 13,
   "id": "8825d414-2971-4523-8ab2-b5b52e587ffb",
   "metadata": {
    "editable": true,
    "slideshow": {
     "slide_type": ""
    },
    "tags": []
   },
   "outputs": [],
   "source": [
    "item_stac = {\n",
    "  \"stac_version\": \"1.1.0\",\n",
    "  \"id\": f\"{output_basename}-{now.timestamp():.9f}\",\n",
    "  \"type\": \"Feature\",\n",
    "  \"geometry\": {\n",
    "    \"type\": \"Polygon\",\n",
    "    \"coordinates\": [\n",
    "      [\n",
    "        [0, -90],\n",
    "        [0, 90],\n",
    "        [360, 90],\n",
    "        [360, -90],\n",
    "        [0, -90]\n",
    "      ]\n",
    "    ]\n",
    "  },\n",
    "  \"properties\": {\n",
    "    \"start_datetime\": \"2000-01-01T00:00:00Z\",\n",
    "    \"end_datetime\": \"2001-01-01T00:00:00Z\",\n",
    "    \"datetime\":\tNone\n",
    "  },\n",
    "  \"bbox\": [0, -90, 360, 90],\n",
    "  \"assets\": {\n",
    "    output_basename: {\n",
    "      \"type\": \"image/png\",\n",
    "      \"roles\": [\"data\"],\n",
    "      \"href\": output_pngname,\n",
    "      \"file:size\": output_pngpath.stat().st_size\n",
    "    }\n",
    "  },\n",
    "  \"links\": [{\n",
    "    \"type\": \"application/json\",\n",
    "    \"rel\": \"parent\",\n",
    "    \"href\": \"catalog.json\"\n",
    "  }, {\n",
    "    \"type\": \"application/json\",\n",
    "    \"rel\": \"root\",\n",
    "    \"href\": \"catalog.json\"\n",
    "  }]\n",
    "}\n",
    "\n",
    "item_stac[\"properties\"] |= {\"xcengine_config:\" + k: v for k, v in xcengine_config.items()}\n",
    "\n",
    "with open(output_jsonname, \"w\") as fh:\n",
    "    json.dump(item_stac, fh, indent=2)"
   ]
  },
  {
   "cell_type": "code",
   "execution_count": 86,
   "id": "19517eb9-4d64-4b95-94ec-b4e9a3292d27",
   "metadata": {
    "editable": true,
    "slideshow": {
     "slide_type": ""
    },
    "tags": []
   },
   "outputs": [],
   "source": [
    "catalog_stac = {\n",
    "  \"stac_version\": \"1.1.0\",\n",
    "  \"id\": \"catalog\",\n",
    "  \"type\": \"Catalog\",\n",
    "  \"description\": \"Root catalog\",\n",
    "  \"links\": [{\n",
    "    \"type\": \"application/geo+json\",\n",
    "    \"rel\": \"item\",\n",
    "    \"href\": output_jsonname\n",
    "  }, {\n",
    "    \"type\": \"application/json\",\n",
    "    \"rel\": \"root\",\n",
    "    \"href\": \"catalog.json\"\n",
    "  }]\n",
    "}\n",
    "\n",
    "with open(\"catalog.json\", \"w\") as fh:\n",
    "    json.dump(catalog_stac, fh, indent=2)"
   ]
  },
  {
   "cell_type": "code",
   "execution_count": null,
   "id": "345db0f0-f2b9-401c-bdac-60ba6832b96f",
   "metadata": {
    "editable": true,
    "slideshow": {
     "slide_type": ""
    },
    "tags": []
   },
   "outputs": [],
   "source": []
  }
 ],
 "metadata": {
  "kernelspec": {
   "display_name": "Python 3 (ipykernel)",
   "language": "python",
   "name": "python3"
  },
  "language_info": {
   "codemirror_mode": {
    "name": "ipython",
    "version": 3
   },
   "file_extension": ".py",
   "mimetype": "text/x-python",
   "name": "python",
   "nbconvert_exporter": "python",
   "pygments_lexer": "ipython3",
   "version": "3.13.3"
  }
 },
 "nbformat": 4,
 "nbformat_minor": 5
}
