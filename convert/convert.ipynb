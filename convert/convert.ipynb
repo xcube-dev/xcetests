{
 "cells": [
  {
   "cell_type": "code",
   "execution_count": 74,
   "id": "82f71842-da8a-4697-809e-cc5b24865240",
   "metadata": {},
   "outputs": [],
   "source": [
    "import datetime\n",
    "import json\n",
    "import pathlib\n",
    "import re\n",
    "\n",
    "import numpy as np\n",
    "import rioxarray"
   ]
  },
  {
   "cell_type": "code",
   "execution_count": 75,
   "id": "fc9f09c9-90c1-4712-9721-66cef3d89486",
   "metadata": {
    "editable": true,
    "slideshow": {
     "slide_type": ""
    },
    "tags": [
     "parameters"
    ]
   },
   "outputs": [],
   "source": [
    "fn = \"resize\"\n",
    "size = \"50%\"\n",
    "url = \"https://eoepca.org/media_portal/images/logo6_med.original.png\"\n",
    "xcengine_config = dict(\n",
    "  workflow_id = \"xceconvert-1\"\n",
    ")"
   ]
  },
  {
   "cell_type": "code",
   "execution_count": 76,
   "id": "7e8879c6-1b5e-46ab-96eb-20ebbf4815c0",
   "metadata": {},
   "outputs": [
    {
     "name": "stderr",
     "output_type": "stream",
     "text": [
      "/home/pont/mambaforge/envs/xcube2505a/lib/python3.13/site-packages/rioxarray/_io.py:1143: NotGeoreferencedWarning: Dataset has no geotransform, gcps, or rpcs. The identity matrix will be returned.\n",
      "  warnings.warn(str(rio_warning.message), type(rio_warning.message))  # type: ignore\n"
     ]
    }
   ],
   "source": [
    "ds = rioxarray.open_rasterio(url)"
   ]
  },
  {
   "cell_type": "code",
   "execution_count": 77,
   "id": "073b818f-a15a-4bc1-a485-2faf17f05b0d",
   "metadata": {},
   "outputs": [],
   "source": [
    "ds_small = ds.coarsen(x=2, y=2).mean().astype(np.uint8)"
   ]
  },
  {
   "cell_type": "code",
   "execution_count": 79,
   "id": "b1d4b6a3-68ca-4f8b-ba67-836ca4bfcbb1",
   "metadata": {},
   "outputs": [],
   "source": [
    "output_basename = re.sub(\"[.]png$\", \"\", pathlib.Path(url).parts[-1]) + \"-resize\"\n",
    "output_pngname = output_basename + \".png\"\n",
    "output_pngpath = pathlib.Path(output_pngname)\n",
    "output_jsonname = output_basename + \".json\""
   ]
  },
  {
   "cell_type": "code",
   "execution_count": 80,
   "id": "017d34d6-9145-4fc8-841a-43fd349c368b",
   "metadata": {},
   "outputs": [],
   "source": [
    "ds_small.rio.to_raster(output_pngname)"
   ]
  },
  {
   "cell_type": "code",
   "execution_count": 81,
   "id": "532965a9-146e-4bfd-b1cf-308db9ea7d6b",
   "metadata": {},
   "outputs": [],
   "source": [
    "now = datetime.datetime.now(datetime.UTC)\n",
    "now_iso8601 = re.sub(r\"\\+00:00$\", \"Z\", now.isoformat(timespec=\"milliseconds\"))"
   ]
  },
  {
   "cell_type": "code",
   "execution_count": 83,
   "id": "8825d414-2971-4523-8ab2-b5b52e587ffb",
   "metadata": {},
   "outputs": [],
   "source": [
    "item_stac = {\n",
    "  \"stac_version\": \"1.0.0\",\n",
    "  \"id\": f\"{output_basename}-{now.timestamp():.9f}\",\n",
    "  \"type\": \"Feature\",\n",
    "  \"geometry\": {\n",
    "    \"type\": \"Polygon\",\n",
    "    \"coordinates\": [\n",
    "      [\n",
    "        [-180, -90],\n",
    "        [-180, 90],\n",
    "        [180, 90],\n",
    "        [180, -90],\n",
    "        [-180, -90]\n",
    "      ]\n",
    "    ]\n",
    "  },\n",
    "  \"properties\": {\n",
    "    \"created\": now_iso8601,\n",
    "    \"datetime\": now_iso8601,\n",
    "    \"updated\": now_iso8601\n",
    "  },\n",
    "  \"bbox\": [-180, -90, 180, 90],\n",
    "  \"assets\": {\n",
    "    output_basename: {\n",
    "      \"type\": \"image/png\",\n",
    "      \"roles\": [\"data\"],\n",
    "      \"href\": output_pngname,\n",
    "      \"file:size\": output_pngpath.stat().st_size\n",
    "    }\n",
    "  },\n",
    "  \"links\": [{\n",
    "    \"type\": \"application/json\",\n",
    "    \"rel\": \"parent\",\n",
    "    \"href\": \"catalog.json\"\n",
    "  }, {\n",
    "    \"type\": \"application/geo+json\",\n",
    "    \"rel\": \"self\",\n",
    "    \"href\": output_jsonname\n",
    "  }, {\n",
    "    \"type\": \"application/json\",\n",
    "    \"rel\": \"root\",\n",
    "    \"href\": \"catalog.json\"\n",
    "  }]\n",
    "}\n",
    "\n",
    "with open(output_jsonname, \"w\") as fh:\n",
    "    json.dump(item_stac, fh, indent=2)"
   ]
  },
  {
   "cell_type": "code",
   "execution_count": 86,
   "id": "19517eb9-4d64-4b95-94ec-b4e9a3292d27",
   "metadata": {},
   "outputs": [],
   "source": [
    "catalog_stac = {\n",
    "  \"stac_version\": \"1.0.0\",\n",
    "  \"id\": \"catalog\",\n",
    "  \"type\": \"Catalog\",\n",
    "  \"description\": \"Root catalog\",\n",
    "  \"links\": [{\n",
    "    \"type\": \"application/geo+json\",\n",
    "    \"rel\": \"item\",\n",
    "    \"href\": output_jsonname\n",
    "  }, {\n",
    "    \"type\": \"application/json\",\n",
    "    \"rel\": \"self\",\n",
    "    \"href\": \"catalog.json\"\n",
    "  }]\n",
    "}\n",
    "\n",
    "with open(\"catalog.json\", \"w\") as fh:\n",
    "    json.dump(catalog_stac, fh, indent=2)"
   ]
  },
  {
   "cell_type": "code",
   "execution_count": null,
   "id": "93562a23-4dba-4241-a44b-c1cbb9aad31f",
   "metadata": {},
   "outputs": [],
   "source": []
  }
 ],
 "metadata": {
  "kernelspec": {
   "display_name": "Python 3 (ipykernel)",
   "language": "python",
   "name": "python3"
  },
  "language_info": {
   "codemirror_mode": {
    "name": "ipython",
    "version": 3
   },
   "file_extension": ".py",
   "mimetype": "text/x-python",
   "name": "python",
   "nbconvert_exporter": "python",
   "pygments_lexer": "ipython3",
   "version": "3.13.3"
  }
 },
 "nbformat": 4,
 "nbformat_minor": 5
}
